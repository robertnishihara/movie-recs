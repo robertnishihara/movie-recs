{
 "cells": [
  {
   "cell_type": "code",
   "execution_count": 1,
   "id": "54df3bd5-b479-4dfe-9de1-9e6eaea01f4d",
   "metadata": {},
   "outputs": [
    {
     "name": "stdout",
     "output_type": "stream",
     "text": [
      "env: ANYSCALE_HOST=https://console.anyscale-staging.com\n"
     ]
    }
   ],
   "source": [
    "# Full dataset 41000 images\n",
    "\n",
    "# FILES_DIR = \"/home/ec2-user/SageMaker/movie_posters/img_41K\"\n",
    "\n",
    "## CHANGE 1: Read files from S3 instead of locally\n",
    "FILES_DIR = \"s3://air-example-data-2/movie-image-small-filesize-1GB\"\n",
    "\n",
    "# CHANGE 2: Point at a cluster \n",
    "%env ANYSCALE_HOST=https://console.anyscale-staging.com\n",
    "CLUSTER_URL = \"anyscale://workspace-project-demo/workspace-cluster-demo\"\n",
    "RUNTIME = {\"working_dir\": \".\", \"env_vars\": {\"RAY_SCHEDULER_EVENTS\": \"0\"}}\n",
    "\n",
    "# CHANGE 3: Increase workers from 4 to 20. \n",
    "NUM_WORKERS=20\n",
    "\n",
    "import warnings\n",
    "warnings.filterwarnings('ignore')\n",
    "\n",
    "import numpy as np\n",
    "import json\n",
    "\n",
    "import ray\n",
    "from ray.train.torch import TorchPredictor, TorchCheckpoint\n",
    "from ray.train.batch_predictor import BatchPredictor\n",
    "from ray.data.preprocessors import BatchMapper\n",
    "from ray.data.datasource import ImageFolderDatasource\n",
    "import anyscale\n",
    "\n",
    "from torchvision.models.detection.ssd import ssd300_vgg16\n",
    "\n",
    "from util import visualize_objects, convert_to_tensor, SSDPredictor\n",
    "\n",
    "# TODO: Enable auto casting once we resolve call_model() output format\n",
    "from ray.data.context import DatasetContext\n",
    "ctx = DatasetContext.get_current();\n",
    "ctx.enable_tensor_extension_casting = False"
   ]
  },
  {
   "cell_type": "code",
   "execution_count": 2,
   "id": "8a1ec3e2-51ae-4bbc-bca2-fa00d4e171f3",
   "metadata": {},
   "outputs": [],
   "source": [
    "def batch_predict(files_dir):\n",
    "    dataset = ray.data.read_datasource(\n",
    "        ImageFolderDatasource(), root=files_dir, size=(300, 300), mode=\"RGB\"\n",
    "    )\n",
    "    preprocessor = BatchMapper(convert_to_tensor)\n",
    "    model = ssd300_vgg16(pretrained=True)\n",
    "    ckpt = TorchCheckpoint.from_model(model=model, preprocessor=preprocessor)\n",
    "    predictor = BatchPredictor.from_checkpoint(ckpt, SSDPredictor)\n",
    "\n",
    "    return predictor.predict(dataset, \n",
    "                             batch_size=128,\n",
    "                             min_scoring_workers=NUM_WORKERS,\n",
    "                             max_scoring_workers=NUM_WORKERS, \n",
    "                             num_cpus_per_worker=4, \n",
    "                             num_gpus_per_worker=1, \n",
    "                             feature_columns=[\"image\"], \n",
    "                             keep_columns=[\"image\"])\n",
    "\n",
    "\n",
    "\n"
   ]
  },
  {
   "cell_type": "code",
   "execution_count": 3,
   "id": "886ecf75-a167-48bc-8810-6c74e9c05c6f",
   "metadata": {},
   "outputs": [
    {
     "name": "stderr",
     "output_type": "stream",
     "text": [
      "Authenticating\n",
      "Loaded Anyscale authentication token from ~/.anyscale/credentials.json.\n",
      "\n",
      "Parsing Ray Client arguments\n",
      "Finished parsing arguments.\n",
      "\n",
      "Choosing a project\n",
      "Using the project workspace-project-demo:\n",
      "  name:               workspace-project-demo\n",
      "  project id:         prj_cNsZAtGnE6FU5tczBLqVsJv3\n",
      "\n",
      "Preparing the cluster\n",
      "Cluster workspace-cluster-demo is currently running.\n",
      "Connecting to this cluster:\n",
      "  cluster id:                   ses_Lz9BqdCTSjv99SNRMjPKwTRv\n",
      "  cluster environment:          apt_9zd5xA9LDSNTibWFSgXmCTkx:3\n",
      "  cluster environment id:       bld_LuYuxCsYgZG1e2afMLQx9YxE\n",
      "  cluster compute:              demo_cluster_compute_af9265a4-13b4-4c99-8581-00ba8526b1b3\n",
      "  cluster compute id:           cpt_YZbKiFjBda9HPxDc44bKRnkj\n",
      "  idle termination:             120 minutes\n",
      "  maximum uptime:               disabled\n",
      "  link:                         https://console.anyscale-staging.com/projects/prj_cNsZAtGnE6FU5tczBLqVsJv3/clusters/ses_Lz9BqdCTSjv99SNRMjPKwTRv\n",
      "\n",
      "Starting the interactive session\n",
      "Uploading `working_dir: .` to the cluster ...\n",
      "Connected to workspace-cluster-demo.\n",
      "[Warning] Unable to print information for interactive session with job name ipykernel_launcher.py_08-06-2022_00:53:03. Please view cluster at https://console.anyscale-staging.com/projects/prj_cNsZAtGnE6FU5tczBLqVsJv3/clusters/ses_Lz9BqdCTSjv99SNRMjPKwTRv.\n"
     ]
    },
    {
     "data": {
      "text/html": [
       "<div>\n",
       "    <div style=\"margin-left: 50px;display: flex;flex-direction: row;align-items: center\">\n",
       "        <h3 style=\"color: var(--jp-ui-font-color0)\">Ray</h3>\n",
       "        <svg version=\"1.1\" id=\"ray\" width=\"3em\" viewBox=\"0 0 144.5 144.6\" style=\"margin-left: 3em;margin-right: 3em\">\n",
       "            <g id=\"layer-1\">\n",
       "                <path fill=\"#00a2e9\" class=\"st0\" d=\"M97.3,77.2c-3.8-1.1-6.2,0.9-8.3,5.1c-3.5,6.8-9.9,9.9-17.4,9.6S58,88.1,54.8,81.2c-1.4-3-3-4-6.3-4.1\n",
       "                    c-5.6-0.1-9.9,0.1-13.1,6.4c-3.8,7.6-13.6,10.2-21.8,7.6C5.2,88.4-0.4,80.5,0,71.7c0.1-8.4,5.7-15.8,13.8-18.2\n",
       "                    c8.4-2.6,17.5,0.7,22.3,8c1.3,1.9,1.3,5.2,3.6,5.6c3.9,0.6,8,0.2,12,0.2c1.8,0,1.9-1.6,2.4-2.8c3.5-7.8,9.7-11.8,18-11.9\n",
       "                    c8.2-0.1,14.4,3.9,17.8,11.4c1.3,2.8,2.9,3.6,5.7,3.3c1-0.1,2,0.1,3,0c2.8-0.5,6.4,1.7,8.1-2.7s-2.3-5.5-4.1-7.5\n",
       "                    c-5.1-5.7-10.9-10.8-16.1-16.3C84,38,81.9,37.1,78,38.3C66.7,42,56.2,35.7,53,24.1C50.3,14,57.3,2.8,67.7,0.5\n",
       "                    C78.4-2,89,4.7,91.5,15.3c0.1,0.3,0.1,0.5,0.2,0.8c0.7,3.4,0.7,6.9-0.8,9.8c-1.7,3.2-0.8,5,1.5,7.2c6.7,6.5,13.3,13,19.8,19.7\n",
       "                    c1.8,1.8,3,2.1,5.5,1.2c9.1-3.4,17.9-0.6,23.4,7c4.8,6.9,4.6,16.1-0.4,22.9c-5.4,7.2-14.2,9.9-23.1,6.5c-2.3-0.9-3.5-0.6-5.1,1.1\n",
       "                    c-6.7,6.9-13.6,13.7-20.5,20.4c-1.8,1.8-2.5,3.2-1.4,5.9c3.5,8.7,0.3,18.6-7.7,23.6c-7.9,5-18.2,3.8-24.8-2.9\n",
       "                    c-6.4-6.4-7.4-16.2-2.5-24.3c4.9-7.8,14.5-11,23.1-7.8c3,1.1,4.7,0.5,6.9-1.7C91.7,98.4,98,92.3,104.2,86c1.6-1.6,4.1-2.7,2.6-6.2\n",
       "                    c-1.4-3.3-3.8-2.5-6.2-2.6C99.8,77.2,98.9,77.2,97.3,77.2z M72.1,29.7c5.5,0.1,9.9-4.3,10-9.8c0-0.1,0-0.2,0-0.3\n",
       "                    C81.8,14,77,9.8,71.5,10.2c-5,0.3-9,4.2-9.3,9.2c-0.2,5.5,4,10.1,9.5,10.3C71.8,29.7,72,29.7,72.1,29.7z M72.3,62.3\n",
       "                    c-5.4-0.1-9.9,4.2-10.1,9.7c0,0.2,0,0.3,0,0.5c0.2,5.4,4.5,9.7,9.9,10c5.1,0.1,9.9-4.7,10.1-9.8c0.2-5.5-4-10-9.5-10.3\n",
       "                    C72.6,62.3,72.4,62.3,72.3,62.3z M115,72.5c0.1,5.4,4.5,9.7,9.8,9.9c5.6-0.2,10-4.8,10-10.4c-0.2-5.4-4.6-9.7-10-9.7\n",
       "                    c-5.3-0.1-9.8,4.2-9.9,9.5C115,72.1,115,72.3,115,72.5z M19.5,62.3c-5.4,0.1-9.8,4.4-10,9.8c-0.1,5.1,5.2,10.4,10.2,10.3\n",
       "                    c5.6-0.2,10-4.9,9.8-10.5c-0.1-5.4-4.5-9.7-9.9-9.6C19.6,62.3,19.5,62.3,19.5,62.3z M71.8,134.6c5.9,0.2,10.3-3.9,10.4-9.6\n",
       "                    c0.5-5.5-3.6-10.4-9.1-10.8c-5.5-0.5-10.4,3.6-10.8,9.1c0,0.5,0,0.9,0,1.4c-0.2,5.3,4,9.8,9.3,10\n",
       "                    C71.6,134.6,71.7,134.6,71.8,134.6z\"/>\n",
       "            </g>\n",
       "        </svg>\n",
       "        <table>\n",
       "            <tr>\n",
       "                <td style=\"text-align: left\"><b>Python version:</b></td>\n",
       "                <td style=\"text-align: left\"><b>3.8.5</b></td>\n",
       "            </tr>\n",
       "            <tr>\n",
       "                <td style=\"text-align: left\"><b>Ray version:</b></td>\n",
       "                <td style=\"text-align: left\"><b> 3.0.0.dev0</b></td>\n",
       "            </tr>\n",
       "            <tr>\n",
       "    <td style=\"text-align: left\"><b>Dashboard:</b></td>\n",
       "    <td style=\"text-align: left\"><b><a href=\"http://https://session-lz9bqdctsjv99snrmjpkwtrv.i.anyscaleuserdata-staging.com/auth/?token=agh0_CkcwRQIhANi21ZCVoKkIHTGnFFtfysDcoLRRO8Z1SKJNuziVXXF6AiAte1L7o79zvq3kjX5iZXZ0KDWwraW-GqY1ACOMcQTj4hJmEiAlBPw5uCiEeqKg553UhWeGNgxNvc_2tBVrwvBWh8uXyhgCIgNuL2E6DAjVyZXiBhDY9p-rA0IMCNXG_ZYGENj2n6sD-gEeChxzZXNfTHo5QnFkQ1RTanY5OVNOUk1qUEt3VFJ2&redirect_to=dashboard\" target=\"_blank\">http://https://session-lz9bqdctsjv99snrmjpkwtrv.i.anyscaleuserdata-staging.com/auth/?token=agh0_CkcwRQIhANi21ZCVoKkIHTGnFFtfysDcoLRRO8Z1SKJNuziVXXF6AiAte1L7o79zvq3kjX5iZXZ0KDWwraW-GqY1ACOMcQTj4hJmEiAlBPw5uCiEeqKg553UhWeGNgxNvc_2tBVrwvBWh8uXyhgCIgNuL2E6DAjVyZXiBhDY9p-rA0IMCNXG_ZYGENj2n6sD-gEeChxzZXNfTHo5QnFkQ1RTanY5OVNOUk1qUEt3VFJ2&redirect_to=dashboard</a></b></td>\n",
       "</tr>\n",
       "\n",
       "        </table>\n",
       "    </div>\n",
       "</div>\n"
      ],
      "text/plain": [
       "AnyscaleClientContext(dashboard_url='https://session-lz9bqdctsjv99snrmjpkwtrv.i.anyscaleuserdata-staging.com/auth/?token=agh0_CkcwRQIhANi21ZCVoKkIHTGnFFtfysDcoLRRO8Z1SKJNuziVXXF6AiAte1L7o79zvq3kjX5iZXZ0KDWwraW-GqY1ACOMcQTj4hJmEiAlBPw5uCiEeqKg553UhWeGNgxNvc_2tBVrwvBWh8uXyhgCIgNuL2E6DAjVyZXiBhDY9p-rA0IMCNXG_ZYGENj2n6sD-gEeChxzZXNfTHo5QnFkQ1RTanY5OVNOUk1qUEt3VFJ2&redirect_to=dashboard', python_version='3.8.5', ray_version='3.0.0.dev0', ray_commit='c58874ae8545eef0b5c7632418eba3da0b5015c9', protocol_version='2022-07-24', _num_clients=1, _context_to_restore=None)"
      ]
     },
     "execution_count": 3,
     "metadata": {},
     "output_type": "execute_result"
    }
   ],
   "source": [
    "ray.init(CLUSTER_URL, runtime_env=RUNTIME)"
   ]
  },
  {
   "cell_type": "code",
   "execution_count": 4,
   "id": "faecaa68-c766-4687-89e0-c75a5afa2c87",
   "metadata": {},
   "outputs": [
    {
     "name": "stderr",
     "output_type": "stream",
     "text": [
      "Read->Map_Batches: 100%|██████████| 480/480 [00:37<00:00, 12.91it/s]\n",
      "Map Progress (20 actors 0 pending): 100%|██████████| 480/480 [01:18<00:00,  6.14it/s]\n",
      "(raylet) Spilled 15587 MiB, 658 objects, write throughput 1407 MiB/s. Set RAY_verbose_spill_logs=0 to disable this message.\n"
     ]
    }
   ],
   "source": [
    "prediction_results = batch_predict(FILES_DIR)\n"
   ]
  },
  {
   "cell_type": "code",
   "execution_count": 6,
   "id": "e1fe0380-402a-4a64-9abf-999fbdd77412",
   "metadata": {},
   "outputs": [
    {
     "name": "stderr",
     "output_type": "stream",
     "text": [
      "Map: 100%|██████████| 2/2 [00:00<00:00,  5.20it/s]\n"
     ]
    }
   ],
   "source": [
    "visualize_objects(prediction_results)"
   ]
  },
  {
   "cell_type": "code",
   "execution_count": null,
   "id": "9131bcec-0f43-4c16-bd37-23c0a1ba2c45",
   "metadata": {},
   "outputs": [],
   "source": []
  }
 ],
 "metadata": {
  "kernelspec": {
   "display_name": "conda_pytorch_p38",
   "language": "python",
   "name": "conda_pytorch_p38"
  },
  "language_info": {
   "codemirror_mode": {
    "name": "ipython",
    "version": 3
   },
   "file_extension": ".py",
   "mimetype": "text/x-python",
   "name": "python",
   "nbconvert_exporter": "python",
   "pygments_lexer": "ipython3",
   "version": "3.8.12"
  }
 },
 "nbformat": 4,
 "nbformat_minor": 5
}
