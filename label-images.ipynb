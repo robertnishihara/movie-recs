{
 "cells": [
  {
   "cell_type": "code",
   "execution_count": 15,
   "id": "f0c170c4-f8a1-4631-b004-a1180a81fe85",
   "metadata": {},
   "outputs": [
    {
     "name": "stdout",
     "output_type": "stream",
     "text": [
      "env: ANYSCALE_HOST=https://console.anyscale-staging.com\n",
      "env: ANYSCALE_CLI_TOKEN=sss_4nneyStJk8ORsSgxW45lDT\n",
      "env: IGNORE_VERSION_CHECK=1\n"
     ]
    }
   ],
   "source": [
    "# First install everything -- you only need to do this once: \n",
    "#! pip install https://ray-ci-artifact-pr-public.s3.amazonaws.com/c58874ae8545eef0b5c7632418eba3da0b5015c9/tmp/artifacts/.whl/ray-3.0.0.dev0-cp38-cp38-manylinux2014_x86_64.whl\n",
    "#! pip install ray[tune]\n",
    "#! pip install torch\n",
    "#! pip install torchvision\n",
    "#! pip install tqdm\n",
    "# ! pip install anyscale\n",
    "# %env ANYSCALE_HOST=https://console.anyscale-staging.com\n",
    "# %env ANYSCALE_CLI_TOKEN=sss_4nneyStJk8ORsSgxW45lDT\n",
    "# %env IGNORE_VERSION_CHECK=1\n"
   ]
  },
  {
   "cell_type": "code",
   "execution_count": 16,
   "id": "72cab63a-97ec-4b1e-9d32-c928d62082ef",
   "metadata": {},
   "outputs": [],
   "source": [
    "FILES_DIR = \"s3://waleed-movies\"\n",
    "\n",
    "# files_dir = \"/home/ec2-user/images\"\n",
    "\n",
    "# Use this for quick testing with ~300 files\n",
    "# FILES_DIR = \"s3://air-example-data-2/movie-image-small-filesize-1-file\"\n",
    "import numpy as np\n",
    "import json\n",
    "\n",
    "import ray\n",
    "from ray.train.torch import TorchPredictor, TorchCheckpoint\n",
    "from ray.train.batch_predictor import BatchPredictor\n",
    "from ray.data.preprocessors import BatchMapper\n",
    "from ray.data.datasource import ImageFolderDatasource\n",
    "import anyscale\n",
    "\n",
    "from torchvision.models.detection.ssd import ssd300_vgg16\n",
    "\n",
    "from util import visualize_objects, convert_to_tensor, SSDPredictor\n",
    "\n",
    "# TODO: Enable auto casting once we resolve call_model() output format\n",
    "from ray.data.context import DatasetContext\n",
    "ctx = DatasetContext.get_current();\n",
    "ctx.enable_tensor_extension_casting = False"
   ]
  },
  {
   "cell_type": "code",
   "execution_count": 17,
   "id": "e8261566-396f-47ff-9c34-86942322ee8e",
   "metadata": {},
   "outputs": [
    {
     "name": "stdout",
     "output_type": "stream",
     "text": [
      "(scheduler +16m29s) Resized to 48 CPUs, 4 GPUs.\n",
      "(scheduler +16m29s) Resized to 240 CPUs, 20 GPUs.\n",
      "(scheduler +16m39s) Resized to 48 CPUs, 4 GPUs.\n",
      "(scheduler +16m39s) Resized to 240 CPUs, 20 GPUs.\n",
      "(scheduler +16m48s) Resized to 48 CPUs, 4 GPUs.\n",
      "(scheduler +16m48s) Resized to 240 CPUs, 20 GPUs.\n",
      "(scheduler +16m58s) Resized to 48 CPUs, 4 GPUs.\n",
      "(scheduler +16m58s) Resized to 240 CPUs, 20 GPUs.\n",
      "(scheduler +17m9s) Resized to 48 CPUs, 4 GPUs.\n",
      "(scheduler +17m9s) Resized to 240 CPUs, 20 GPUs.\n",
      "(scheduler +17m18s) Resized to 48 CPUs, 4 GPUs.\n",
      "(scheduler +17m18s) Resized to 240 CPUs, 20 GPUs.\n",
      "(scheduler +17m27s) Resized to 48 CPUs, 4 GPUs.\n",
      "(scheduler +17m27s) Resized to 240 CPUs, 20 GPUs.\n",
      "(scheduler +17m37s) Resized to 48 CPUs, 4 GPUs.\n",
      "(scheduler +17m37s) Resized to 240 CPUs, 20 GPUs.\n",
      "(scheduler +17m46s) Resized to 48 CPUs, 4 GPUs.\n",
      "(scheduler +17m46s) Resized to 240 CPUs, 20 GPUs.\n",
      "(scheduler +17m56s) Resized to 48 CPUs, 4 GPUs.\n",
      "(scheduler +17m56s) Resized to 240 CPUs, 20 GPUs.\n",
      "(scheduler +18m5s) Resized to 48 CPUs, 4 GPUs.\n",
      "(scheduler +18m5s) Resized to 240 CPUs, 20 GPUs.\n",
      "(scheduler +18m14s) Resized to 48 CPUs, 4 GPUs.\n",
      "(scheduler +18m14s) Resized to 240 CPUs, 20 GPUs.\n",
      "(scheduler +18m24s) Resized to 48 CPUs, 4 GPUs.\n",
      "(scheduler +18m24s) Resized to 240 CPUs, 20 GPUs.\n",
      "(scheduler +18m33s) Resized to 48 CPUs, 4 GPUs.\n",
      "(scheduler +18m33s) Resized to 240 CPUs, 20 GPUs.\n",
      "(scheduler +18m43s) Resized to 48 CPUs, 4 GPUs.\n",
      "(scheduler +18m43s) Resized to 240 CPUs, 20 GPUs.\n",
      "(scheduler +18m52s) Resized to 48 CPUs, 4 GPUs.\n",
      "(scheduler +18m52s) Resized to 240 CPUs, 20 GPUs.\n",
      "(scheduler +19m2s) Resized to 48 CPUs, 4 GPUs.\n",
      "(scheduler +19m2s) Resized to 240 CPUs, 20 GPUs.\n",
      "(scheduler +19m13s) Resized to 48 CPUs, 4 GPUs.\n",
      "(scheduler +19m13s) Resized to 240 CPUs, 20 GPUs.\n",
      "(scheduler +19m22s) Resized to 48 CPUs, 4 GPUs.\n",
      "(scheduler +19m22s) Resized to 240 CPUs, 20 GPUs.\n",
      "(scheduler +19m32s) Resized to 48 CPUs, 4 GPUs.\n",
      "(scheduler +19m32s) Resized to 240 CPUs, 20 GPUs.\n",
      "(scheduler +19m44s) Resized to 48 CPUs, 4 GPUs.\n",
      "(scheduler +19m44s) Resized to 240 CPUs, 20 GPUs.\n",
      "(scheduler +19m54s) Resized to 48 CPUs, 4 GPUs.\n",
      "(scheduler +19m54s) Resized to 240 CPUs, 20 GPUs.\n",
      "(scheduler +20m3s) Resized to 48 CPUs, 4 GPUs.\n",
      "(scheduler +20m3s) Resized to 240 CPUs, 20 GPUs.\n",
      "(scheduler +20m12s) Resized to 48 CPUs, 4 GPUs.\n",
      "(scheduler +20m12s) Resized to 240 CPUs, 20 GPUs.\n",
      "(scheduler +20m22s) Resized to 48 CPUs, 4 GPUs.\n",
      "(scheduler +20m22s) Resized to 240 CPUs, 20 GPUs.\n",
      "(scheduler +20m31s) Resized to 48 CPUs, 4 GPUs.\n",
      "(scheduler +20m31s) Resized to 240 CPUs, 20 GPUs.\n",
      "(scheduler +20m41s) Resized to 48 CPUs, 4 GPUs.\n",
      "(scheduler +20m41s) Resized to 240 CPUs, 20 GPUs.\n",
      "(scheduler +20m50s) Resized to 48 CPUs, 4 GPUs.\n",
      "(scheduler +20m50s) Resized to 240 CPUs, 20 GPUs.\n",
      "(scheduler +21m1s) Resized to 48 CPUs, 4 GPUs.\n",
      "(scheduler +21m1s) Resized to 240 CPUs, 20 GPUs.\n",
      "(scheduler +21m12s) Resized to 48 CPUs, 4 GPUs.\n",
      "(scheduler +21m12s) Resized to 240 CPUs, 20 GPUs.\n",
      "(scheduler +21m21s) Resized to 48 CPUs, 4 GPUs.\n",
      "(scheduler +21m21s) Resized to 240 CPUs, 20 GPUs.\n",
      "(scheduler +21m31s) Resized to 48 CPUs, 4 GPUs.\n",
      "(scheduler +21m31s) Resized to 240 CPUs, 20 GPUs.\n",
      "(scheduler +21m40s) Resized to 48 CPUs, 4 GPUs.\n",
      "(scheduler +21m40s) Resized to 240 CPUs, 20 GPUs.\n",
      "(scheduler +21m51s) Resized to 48 CPUs, 4 GPUs.\n",
      "(scheduler +21m51s) Resized to 240 CPUs, 20 GPUs.\n",
      "(scheduler +22m1s) Resized to 48 CPUs, 4 GPUs.\n",
      "(scheduler +22m1s) Resized to 240 CPUs, 20 GPUs.\n",
      "(scheduler +22m10s) Resized to 48 CPUs, 4 GPUs.\n",
      "(scheduler +22m10s) Resized to 240 CPUs, 20 GPUs.\n",
      "(scheduler +22m19s) Resized to 48 CPUs, 4 GPUs.\n",
      "(scheduler +22m19s) Resized to 240 CPUs, 20 GPUs.\n",
      "(scheduler +22m29s) Resized to 48 CPUs, 4 GPUs.\n",
      "(scheduler +22m29s) Resized to 240 CPUs, 20 GPUs.\n",
      "(scheduler +22m40s) Resized to 48 CPUs, 4 GPUs.\n",
      "(scheduler +22m40s) Resized to 240 CPUs, 20 GPUs.\n",
      "(scheduler +22m49s) Resized to 48 CPUs, 4 GPUs.\n",
      "(scheduler +22m49s) Resized to 240 CPUs, 20 GPUs.\n",
      "(scheduler +22m59s) Resized to 48 CPUs, 4 GPUs.\n",
      "(scheduler +22m59s) Resized to 240 CPUs, 20 GPUs.\n",
      "(scheduler +23m8s) Resized to 48 CPUs, 4 GPUs.\n",
      "(scheduler +23m8s) Resized to 240 CPUs, 20 GPUs.\n",
      "(scheduler +23m19s) Resized to 48 CPUs, 4 GPUs.\n",
      "(scheduler +23m19s) Resized to 240 CPUs, 20 GPUs.\n",
      "(scheduler +23m32s) Resized to 48 CPUs, 4 GPUs.\n",
      "(scheduler +23m32s) Resized to 240 CPUs, 20 GPUs.\n",
      "(scheduler +23m41s) Resized to 48 CPUs, 4 GPUs.\n",
      "(scheduler +23m41s) Resized to 240 CPUs, 20 GPUs.\n",
      "(scheduler +23m51s) Resized to 48 CPUs, 4 GPUs.\n",
      "(scheduler +23m51s) Resized to 240 CPUs, 20 GPUs.\n",
      "(scheduler +24m0s) Resized to 48 CPUs, 4 GPUs.\n",
      "(scheduler +24m0s) Resized to 240 CPUs, 20 GPUs.\n",
      "(scheduler +24m11s) Resized to 48 CPUs, 4 GPUs.\n",
      "(scheduler +24m11s) Resized to 240 CPUs, 20 GPUs.\n",
      "(scheduler +24m20s) Resized to 48 CPUs, 4 GPUs.\n",
      "(scheduler +24m20s) Resized to 240 CPUs, 20 GPUs.\n",
      "(scheduler +24m30s) Resized to 48 CPUs, 4 GPUs.\n",
      "(scheduler +24m30s) Resized to 240 CPUs, 20 GPUs.\n",
      "(scheduler +24m39s) Resized to 48 CPUs, 4 GPUs.\n",
      "(scheduler +24m39s) Resized to 240 CPUs, 20 GPUs.\n",
      "(scheduler +24m52s) Resized to 48 CPUs, 4 GPUs.\n",
      "(scheduler +24m52s) Resized to 240 CPUs, 20 GPUs.\n",
      "(scheduler +25m1s) Resized to 48 CPUs, 4 GPUs.\n",
      "(scheduler +25m1s) Resized to 240 CPUs, 20 GPUs.\n",
      "(scheduler +25m14s) Resized to 48 CPUs, 4 GPUs.\n",
      "(scheduler +25m14s) Resized to 240 CPUs, 20 GPUs.\n",
      "(scheduler +25m23s) Resized to 48 CPUs, 4 GPUs.\n",
      "(scheduler +25m23s) Resized to 240 CPUs, 20 GPUs.\n",
      "(scheduler +25m34s) Resized to 48 CPUs, 4 GPUs.\n",
      "(scheduler +25m34s) Resized to 240 CPUs, 20 GPUs.\n",
      "(scheduler +25m43s) Resized to 48 CPUs, 4 GPUs.\n",
      "(scheduler +25m43s) Resized to 240 CPUs, 20 GPUs.\n",
      "(scheduler +25m51s) Resized to 48 CPUs, 4 GPUs.\n",
      "(scheduler +25m51s) Resized to 240 CPUs, 20 GPUs.\n",
      "(scheduler +26m2s) Resized to 48 CPUs, 4 GPUs.\n",
      "(scheduler +26m2s) Resized to 240 CPUs, 20 GPUs.\n",
      "(scheduler +26m13s) Resized to 48 CPUs, 4 GPUs.\n",
      "(scheduler +26m13s) Resized to 240 CPUs, 20 GPUs.\n",
      "(scheduler +26m21s) Resized to 48 CPUs, 4 GPUs.\n",
      "(scheduler +26m21s) Resized to 240 CPUs, 20 GPUs.\n",
      "(scheduler +26m32s) Resized to 48 CPUs, 4 GPUs.\n",
      "(scheduler +26m32s) Resized to 240 CPUs, 20 GPUs.\n",
      "(scheduler +26m41s) Resized to 48 CPUs, 4 GPUs.\n",
      "(scheduler +26m41s) Resized to 240 CPUs, 20 GPUs.\n",
      "(scheduler +26m52s) Resized to 48 CPUs, 4 GPUs.\n",
      "(scheduler +26m52s) Resized to 240 CPUs, 20 GPUs.\n",
      "(scheduler +27m2s) Resized to 48 CPUs, 4 GPUs.\n",
      "(scheduler +27m2s) Resized to 240 CPUs, 20 GPUs.\n",
      "(scheduler +27m11s) Resized to 48 CPUs, 4 GPUs.\n",
      "(scheduler +27m11s) Resized to 240 CPUs, 20 GPUs.\n",
      "(scheduler +27m21s) Resized to 48 CPUs, 4 GPUs.\n",
      "(scheduler +27m21s) Resized to 240 CPUs, 20 GPUs.\n",
      "(scheduler +27m30s) Resized to 48 CPUs, 4 GPUs.\n",
      "(scheduler +27m30s) Resized to 240 CPUs, 20 GPUs.\n",
      "(scheduler +27m40s) Resized to 48 CPUs, 4 GPUs.\n",
      "(scheduler +27m40s) Resized to 240 CPUs, 20 GPUs.\n",
      "(scheduler +27m49s) Resized to 48 CPUs, 4 GPUs.\n",
      "(scheduler +27m49s) Resized to 240 CPUs, 20 GPUs.\n",
      "(scheduler +28m0s) Resized to 48 CPUs, 4 GPUs.\n",
      "(scheduler +28m0s) Resized to 240 CPUs, 20 GPUs.\n",
      "(scheduler +28m9s) Resized to 48 CPUs, 4 GPUs.\n",
      "(scheduler +28m9s) Resized to 240 CPUs, 20 GPUs.\n",
      "(scheduler +28m20s) Resized to 48 CPUs, 4 GPUs.\n",
      "(scheduler +28m20s) Resized to 240 CPUs, 20 GPUs.\n",
      "(scheduler +28m30s) Resized to 48 CPUs, 4 GPUs.\n",
      "(scheduler +28m30s) Resized to 240 CPUs, 20 GPUs.\n",
      "(scheduler +28m39s) Resized to 48 CPUs, 4 GPUs.\n",
      "(scheduler +28m39s) Resized to 240 CPUs, 20 GPUs.\n",
      "(scheduler +28m49s) Resized to 48 CPUs, 4 GPUs.\n",
      "(scheduler +28m49s) Resized to 240 CPUs, 20 GPUs.\n",
      "(scheduler +28m58s) Resized to 48 CPUs, 4 GPUs.\n",
      "(scheduler +28m58s) Resized to 240 CPUs, 20 GPUs.\n",
      "(scheduler +29m8s) Resized to 48 CPUs, 4 GPUs.\n",
      "(scheduler +29m8s) Resized to 240 CPUs, 20 GPUs.\n",
      "(scheduler +29m17s) Resized to 48 CPUs, 4 GPUs.\n",
      "(scheduler +29m17s) Resized to 240 CPUs, 20 GPUs.\n",
      "(scheduler +29m26s) Resized to 48 CPUs, 4 GPUs.\n",
      "(scheduler +29m26s) Resized to 240 CPUs, 20 GPUs.\n",
      "(scheduler +29m37s) Resized to 48 CPUs, 4 GPUs.\n",
      "(scheduler +29m37s) Resized to 240 CPUs, 20 GPUs.\n",
      "(scheduler +29m47s) Resized to 48 CPUs, 4 GPUs.\n",
      "(scheduler +29m47s) Resized to 240 CPUs, 20 GPUs.\n",
      "(scheduler +29m56s) Resized to 48 CPUs, 4 GPUs.\n",
      "(scheduler +29m56s) Resized to 240 CPUs, 20 GPUs.\n",
      "(scheduler +30m7s) Resized to 48 CPUs, 4 GPUs.\n",
      "(scheduler +30m7s) Resized to 240 CPUs, 20 GPUs.\n",
      "(scheduler +30m17s) Resized to 48 CPUs, 4 GPUs.\n",
      "(scheduler +30m17s) Resized to 240 CPUs, 20 GPUs.\n",
      "(scheduler +30m26s) Resized to 48 CPUs, 4 GPUs.\n",
      "(scheduler +30m26s) Resized to 240 CPUs, 20 GPUs.\n",
      "(scheduler +30m35s) Resized to 48 CPUs, 4 GPUs.\n",
      "(scheduler +30m35s) Resized to 240 CPUs, 20 GPUs.\n",
      "(scheduler +30m45s) Resized to 48 CPUs, 4 GPUs.\n",
      "(scheduler +30m45s) Resized to 240 CPUs, 20 GPUs.\n",
      "(scheduler +30m53s) Resized to 48 CPUs, 4 GPUs.\n",
      "(scheduler +30m53s) Resized to 240 CPUs, 20 GPUs.\n",
      "(scheduler +31m4s) Resized to 48 CPUs, 4 GPUs.\n",
      "(scheduler +31m4s) Resized to 240 CPUs, 20 GPUs.\n",
      "(scheduler +31m13s) Resized to 48 CPUs, 4 GPUs.\n",
      "(scheduler +31m13s) Resized to 240 CPUs, 20 GPUs.\n",
      "(scheduler +31m24s) Resized to 48 CPUs, 4 GPUs.\n",
      "(scheduler +31m24s) Resized to 240 CPUs, 20 GPUs.\n",
      "(scheduler +31m33s) Resized to 48 CPUs, 4 GPUs.\n",
      "(scheduler +31m33s) Resized to 240 CPUs, 20 GPUs.\n",
      "(scheduler +31m43s) Resized to 48 CPUs, 4 GPUs.\n",
      "(scheduler +31m43s) Resized to 240 CPUs, 20 GPUs.\n",
      "(scheduler +31m52s) Resized to 48 CPUs, 4 GPUs.\n",
      "(scheduler +31m52s) Resized to 240 CPUs, 20 GPUs.\n",
      "(scheduler +32m2s) Resized to 48 CPUs, 4 GPUs.\n",
      "(scheduler +32m2s) Resized to 240 CPUs, 20 GPUs.\n",
      "(scheduler +32m13s) Resized to 48 CPUs, 4 GPUs.\n",
      "(scheduler +32m13s) Resized to 240 CPUs, 20 GPUs.\n",
      "(scheduler +32m22s) Resized to 48 CPUs, 4 GPUs.\n",
      "(scheduler +32m22s) Resized to 240 CPUs, 20 GPUs.\n",
      "(scheduler +32m31s) Resized to 48 CPUs, 4 GPUs.\n",
      "(scheduler +32m31s) Resized to 240 CPUs, 20 GPUs.\n",
      "(scheduler +32m42s) Resized to 48 CPUs, 4 GPUs.\n",
      "(scheduler +32m42s) Resized to 240 CPUs, 20 GPUs.\n",
      "(scheduler +32m52s) Resized to 48 CPUs, 4 GPUs.\n",
      "(scheduler +32m52s) Resized to 240 CPUs, 20 GPUs.\n",
      "(scheduler +33m1s) Resized to 48 CPUs, 4 GPUs.\n",
      "(scheduler +33m1s) Resized to 240 CPUs, 20 GPUs.\n",
      "(scheduler +33m12s) Resized to 48 CPUs, 4 GPUs.\n",
      "(scheduler +33m12s) Resized to 240 CPUs, 20 GPUs.\n",
      "(scheduler +33m26s) Resized to 48 CPUs, 4 GPUs.\n",
      "(scheduler +33m26s) Resized to 240 CPUs, 20 GPUs.\n",
      "(scheduler +33m37s) Resized to 48 CPUs, 4 GPUs.\n",
      "(scheduler +33m37s) Resized to 240 CPUs, 20 GPUs.\n",
      "(scheduler +33m50s) Resized to 48 CPUs, 4 GPUs.\n",
      "(scheduler +33m50s) Resized to 240 CPUs, 20 GPUs.\n",
      "(scheduler +34m1s) Resized to 48 CPUs, 4 GPUs.\n",
      "(scheduler +34m1s) Resized to 240 CPUs, 20 GPUs.\n",
      "(scheduler +34m10s) Resized to 48 CPUs, 4 GPUs.\n",
      "(scheduler +34m10s) Resized to 240 CPUs, 20 GPUs.\n",
      "(scheduler +34m20s) Resized to 48 CPUs, 4 GPUs.\n",
      "(scheduler +34m20s) Resized to 240 CPUs, 20 GPUs.\n",
      "(scheduler +34m29s) Resized to 48 CPUs, 4 GPUs.\n",
      "(scheduler +34m29s) Resized to 240 CPUs, 20 GPUs.\n",
      "(scheduler +34m38s) Resized to 48 CPUs, 4 GPUs.\n",
      "(scheduler +34m38s) Resized to 240 CPUs, 20 GPUs.\n",
      "(scheduler +34m51s) Resized to 48 CPUs, 4 GPUs.\n",
      "(scheduler +34m51s) Resized to 240 CPUs, 20 GPUs.\n",
      "(scheduler +35m2s) Resized to 48 CPUs, 4 GPUs.\n",
      "(scheduler +35m2s) Resized to 240 CPUs, 20 GPUs.\n",
      "(scheduler +35m13s) Resized to 48 CPUs, 4 GPUs.\n",
      "(scheduler +35m13s) Resized to 240 CPUs, 20 GPUs.\n",
      "(scheduler +35m22s) Resized to 48 CPUs, 4 GPUs.\n",
      "(scheduler +35m22s) Resized to 240 CPUs, 20 GPUs.\n",
      "(scheduler +35m33s) Resized to 48 CPUs, 4 GPUs.\n",
      "(scheduler +35m33s) Resized to 240 CPUs, 20 GPUs.\n",
      "(scheduler +35m45s) Resized to 48 CPUs, 4 GPUs.\n",
      "(scheduler +35m45s) Resized to 240 CPUs, 20 GPUs.\n",
      "(scheduler +35m56s) Resized to 48 CPUs, 4 GPUs.\n",
      "(scheduler +35m56s) Resized to 240 CPUs, 20 GPUs.\n",
      "(scheduler +36m11s) Resized to 48 CPUs, 4 GPUs.\n",
      "(scheduler +36m11s) Resized to 240 CPUs, 20 GPUs.\n",
      "(scheduler +36m21s) Resized to 48 CPUs, 4 GPUs.\n",
      "(scheduler +36m21s) Resized to 240 CPUs, 20 GPUs.\n",
      "(scheduler +36m34s) Resized to 48 CPUs, 4 GPUs.\n",
      "(scheduler +36m34s) Resized to 240 CPUs, 20 GPUs.\n",
      "(scheduler +36m47s) Resized to 48 CPUs, 4 GPUs.\n",
      "(scheduler +36m47s) Resized to 240 CPUs, 20 GPUs.\n",
      "(scheduler +37m2s) Resized to 48 CPUs, 4 GPUs.\n",
      "(scheduler +37m2s) Resized to 240 CPUs, 20 GPUs.\n",
      "(scheduler +37m15s) Resized to 48 CPUs, 4 GPUs.\n",
      "(scheduler +37m15s) Resized to 240 CPUs, 20 GPUs.\n",
      "(scheduler +37m29s) Resized to 48 CPUs, 4 GPUs.\n",
      "(scheduler +37m29s) Resized to 240 CPUs, 20 GPUs.\n",
      "(scheduler +37m41s) Resized to 48 CPUs, 4 GPUs.\n",
      "(scheduler +37m41s) Resized to 240 CPUs, 20 GPUs.\n",
      "(scheduler +37m54s) Resized to 48 CPUs, 4 GPUs.\n",
      "(scheduler +37m54s) Resized to 240 CPUs, 20 GPUs.\n",
      "(scheduler +38m8s) Resized to 48 CPUs, 4 GPUs.\n",
      "(scheduler +38m8s) Resized to 240 CPUs, 20 GPUs.\n",
      "(scheduler +38m21s) Resized to 48 CPUs, 4 GPUs.\n",
      "(scheduler +38m21s) Resized to 240 CPUs, 20 GPUs.\n",
      "(scheduler +38m32s) Resized to 48 CPUs, 4 GPUs.\n",
      "(scheduler +38m32s) Resized to 240 CPUs, 20 GPUs.\n",
      "(scheduler +38m49s) Resized to 48 CPUs, 4 GPUs.\n",
      "(scheduler +38m49s) Resized to 240 CPUs, 20 GPUs.\n",
      "(scheduler +39m1s) Resized to 48 CPUs, 4 GPUs.\n",
      "(scheduler +39m1s) Resized to 240 CPUs, 20 GPUs.\n",
      "(scheduler +39m16s) Resized to 48 CPUs, 4 GPUs.\n",
      "(scheduler +39m16s) Resized to 240 CPUs, 20 GPUs.\n",
      "(scheduler +39m28s) Resized to 48 CPUs, 4 GPUs.\n",
      "(scheduler +39m28s) Resized to 240 CPUs, 20 GPUs.\n",
      "(scheduler +39m45s) Resized to 48 CPUs, 4 GPUs.\n",
      "(scheduler +39m45s) Resized to 240 CPUs, 20 GPUs.\n",
      "(scheduler +39m59s) Resized to 48 CPUs, 4 GPUs.\n",
      "(scheduler +39m59s) Resized to 240 CPUs, 20 GPUs.\n",
      "(scheduler +40m12s) Resized to 48 CPUs, 4 GPUs.\n",
      "(scheduler +40m12s) Resized to 240 CPUs, 20 GPUs.\n",
      "(scheduler +40m26s) Resized to 48 CPUs, 4 GPUs.\n",
      "(scheduler +40m26s) Resized to 240 CPUs, 20 GPUs.\n",
      "(scheduler +40m40s) Resized to 48 CPUs, 4 GPUs.\n",
      "(scheduler +40m40s) Resized to 240 CPUs, 20 GPUs.\n",
      "(scheduler +40m51s) Resized to 48 CPUs, 4 GPUs.\n",
      "(scheduler +40m51s) Resized to 240 CPUs, 20 GPUs.\n",
      "(scheduler +41m7s) Resized to 48 CPUs, 4 GPUs.\n",
      "(scheduler +41m7s) Resized to 240 CPUs, 20 GPUs.\n",
      "(scheduler +41m21s) Resized to 48 CPUs, 4 GPUs.\n",
      "(scheduler +41m21s) Resized to 240 CPUs, 20 GPUs.\n",
      "(scheduler +41m38s) Resized to 48 CPUs, 4 GPUs.\n",
      "(scheduler +41m38s) Resized to 240 CPUs, 20 GPUs.\n",
      "(scheduler +41m51s) Resized to 48 CPUs, 4 GPUs.\n",
      "(scheduler +41m51s) Resized to 240 CPUs, 20 GPUs.\n",
      "(scheduler +42m5s) Resized to 48 CPUs, 4 GPUs.\n",
      "(scheduler +42m5s) Resized to 240 CPUs, 20 GPUs.\n",
      "(scheduler +42m17s) Resized to 48 CPUs, 4 GPUs.\n",
      "(scheduler +42m17s) Resized to 240 CPUs, 20 GPUs.\n",
      "(scheduler +42m28s) Resized to 48 CPUs, 4 GPUs.\n",
      "(scheduler +42m28s) Resized to 240 CPUs, 20 GPUs.\n",
      "(scheduler +42m41s) Resized to 48 CPUs, 4 GPUs.\n",
      "(scheduler +42m41s) Resized to 240 CPUs, 20 GPUs.\n",
      "(scheduler +42m55s) Resized to 48 CPUs, 4 GPUs.\n",
      "(scheduler +42m55s) Resized to 240 CPUs, 20 GPUs.\n",
      "(scheduler +43m6s) Resized to 48 CPUs, 4 GPUs.\n",
      "(scheduler +43m6s) Resized to 240 CPUs, 20 GPUs.\n",
      "(scheduler +43m18s) Resized to 48 CPUs, 4 GPUs.\n",
      "(scheduler +43m18s) Resized to 240 CPUs, 20 GPUs.\n",
      "(scheduler +43m31s) Resized to 48 CPUs, 4 GPUs.\n",
      "(scheduler +43m31s) Resized to 240 CPUs, 20 GPUs.\n",
      "(scheduler +43m42s) Resized to 48 CPUs, 4 GPUs.\n",
      "(scheduler +43m42s) Resized to 240 CPUs, 20 GPUs.\n",
      "(scheduler +43m54s) Resized to 48 CPUs, 4 GPUs.\n",
      "(scheduler +43m54s) Resized to 240 CPUs, 20 GPUs.\n",
      "(scheduler +44m7s) Resized to 48 CPUs, 4 GPUs.\n",
      "(scheduler +44m7s) Resized to 240 CPUs, 20 GPUs.\n",
      "(scheduler +44m18s) Resized to 48 CPUs, 4 GPUs.\n",
      "(scheduler +44m18s) Resized to 240 CPUs, 20 GPUs.\n",
      "(scheduler +44m29s) Resized to 48 CPUs, 4 GPUs.\n",
      "(scheduler +44m29s) Resized to 240 CPUs, 20 GPUs.\n",
      "(scheduler +44m40s) Resized to 48 CPUs, 4 GPUs.\n",
      "(scheduler +44m40s) Resized to 240 CPUs, 20 GPUs.\n",
      "(scheduler +44m51s) Resized to 48 CPUs, 4 GPUs.\n",
      "(scheduler +44m51s) Resized to 240 CPUs, 20 GPUs.\n",
      "(scheduler +45m0s) Resized to 48 CPUs, 4 GPUs.\n",
      "(scheduler +45m0s) Resized to 240 CPUs, 20 GPUs.\n",
      "(scheduler +45m12s) Resized to 48 CPUs, 4 GPUs.\n",
      "(scheduler +45m12s) Resized to 240 CPUs, 20 GPUs.\n",
      "(scheduler +45m23s) Resized to 48 CPUs, 4 GPUs.\n",
      "(scheduler +45m23s) Resized to 240 CPUs, 20 GPUs.\n",
      "(scheduler +45m34s) Resized to 48 CPUs, 4 GPUs.\n",
      "(scheduler +45m34s) Resized to 240 CPUs, 20 GPUs.\n",
      "(scheduler +45m44s) Resized to 48 CPUs, 4 GPUs.\n",
      "(scheduler +45m44s) Resized to 240 CPUs, 20 GPUs.\n",
      "(scheduler +45m55s) Resized to 48 CPUs, 4 GPUs.\n",
      "(scheduler +45m55s) Resized to 240 CPUs, 20 GPUs.\n",
      "(scheduler +46m5s) Resized to 48 CPUs, 4 GPUs.\n",
      "(scheduler +46m5s) Resized to 240 CPUs, 20 GPUs.\n",
      "(scheduler +46m16s) Resized to 48 CPUs, 4 GPUs.\n",
      "(scheduler +46m16s) Resized to 240 CPUs, 20 GPUs.\n",
      "(scheduler +46m27s) Resized to 48 CPUs, 4 GPUs.\n",
      "(scheduler +46m27s) Resized to 240 CPUs, 20 GPUs.\n",
      "(scheduler +46m40s) Resized to 48 CPUs, 4 GPUs.\n",
      "(scheduler +46m40s) Resized to 240 CPUs, 20 GPUs.\n",
      "(scheduler +46m51s) Resized to 48 CPUs, 4 GPUs.\n",
      "(scheduler +46m51s) Resized to 240 CPUs, 20 GPUs.\n",
      "(scheduler +47m2s) Resized to 48 CPUs, 4 GPUs.\n",
      "(scheduler +47m2s) Resized to 240 CPUs, 20 GPUs.\n",
      "(scheduler +47m13s) Resized to 48 CPUs, 4 GPUs.\n",
      "(scheduler +47m13s) Resized to 240 CPUs, 20 GPUs.\n",
      "(scheduler +47m26s) Resized to 48 CPUs, 4 GPUs.\n",
      "(scheduler +47m26s) Resized to 240 CPUs, 20 GPUs.\n",
      "(scheduler +47m37s) Resized to 48 CPUs, 4 GPUs.\n",
      "(scheduler +47m37s) Resized to 240 CPUs, 20 GPUs.\n"
     ]
    }
   ],
   "source": [
    "def batch_predict(files_dir, lim):\n",
    "    dataset = ray.data.read_datasource(\n",
    "        ImageFolderDatasource(), root=files_dir, size=(300, 300), mode=\"RGB\"\n",
    "    ).limit(lim)\n",
    "\n",
    "    preprocessor = BatchMapper(convert_to_tensor)\n",
    "    model = ssd300_vgg16(pretrained=True)\n",
    "    ckpt = TorchCheckpoint.from_model(model=model, preprocessor=preprocessor)\n",
    "    predictor = BatchPredictor.from_checkpoint(ckpt, SSDPredictor)\n",
    "    return predictor.predict(dataset, \n",
    "                             batch_size=128,\n",
    "                             min_scoring_workers=20,\n",
    "                             max_scoring_workers=20, \n",
    "                             num_cpus_per_worker=4, \n",
    "                             num_gpus_per_worker=1, \n",
    "                             feature_columns=[\"image\"], \n",
    "                             keep_columns=[\"image\"])"
   ]
  },
  {
   "cell_type": "code",
   "execution_count": 8,
   "id": "3da8a5f5-2846-4207-aa85-f6c619b05234",
   "metadata": {},
   "outputs": [
    {
     "name": "stderr",
     "output_type": "stream",
     "text": [
      "Parsing Ray Client arguments\n",
      "Finished parsing arguments.\n",
      "\n",
      "Choosing a project\n",
      "Using the project workspace-project-demo:\n",
      "  name:               workspace-project-demo\n",
      "  project id:         prj_cNsZAtGnE6FU5tczBLqVsJv3\n",
      "\n",
      "Preparing the cluster\n",
      "Cluster workspace-cluster-demo is currently running.\n",
      "Connecting to this cluster:\n",
      "  cluster id:                   ses_Lz9BqdCTSjv99SNRMjPKwTRv\n",
      "  cluster environment:          apt_9zd5xA9LDSNTibWFSgXmCTkx:3\n",
      "  cluster environment id:       bld_LuYuxCsYgZG1e2afMLQx9YxE\n",
      "  cluster compute:              demo_cluster_compute_3a048671-4976-4960-9d9b-f931899f51e1\n",
      "  cluster compute id:           cpt_CHAYTmE2MNzjuN89Zsxx7rWL\n",
      "  idle termination:             120 minutes\n",
      "  maximum uptime:               disabled\n",
      "  link:                         https://console.anyscale-staging.com/projects/prj_cNsZAtGnE6FU5tczBLqVsJv3/clusters/ses_Lz9BqdCTSjv99SNRMjPKwTRv\n",
      "\n",
      "Starting the interactive session\n",
      "Uploading `working_dir: .` to the cluster ...\n"
     ]
    },
    {
     "name": "stdout",
     "output_type": "stream",
     "text": [
      "(scheduler +1s) Tip: use `ray status` to view detailed cluster status. To disable these messages, set RAY_SCHEDULER_EVENTS=0.\n",
      "(scheduler +1s) Resized to 48 CPUs, 4 GPUs.\n"
     ]
    },
    {
     "name": "stderr",
     "output_type": "stream",
     "text": [
      "Connected to workspace-cluster-demo.\n",
      "[Warning] Unable to print information for interactive session with job name ipykernel_launcher.py_08-03-2022_21:06:28. Please view cluster at https://console.anyscale-staging.com/projects/prj_cNsZAtGnE6FU5tczBLqVsJv3/clusters/ses_Lz9BqdCTSjv99SNRMjPKwTRv.\n"
     ]
    },
    {
     "data": {
      "text/html": [
       "<div>\n",
       "    <div style=\"margin-left: 50px;display: flex;flex-direction: row;align-items: center\">\n",
       "        <h3 style=\"color: var(--jp-ui-font-color0)\">Ray</h3>\n",
       "        <svg version=\"1.1\" id=\"ray\" width=\"3em\" viewBox=\"0 0 144.5 144.6\" style=\"margin-left: 3em;margin-right: 3em\">\n",
       "            <g id=\"layer-1\">\n",
       "                <path fill=\"#00a2e9\" class=\"st0\" d=\"M97.3,77.2c-3.8-1.1-6.2,0.9-8.3,5.1c-3.5,6.8-9.9,9.9-17.4,9.6S58,88.1,54.8,81.2c-1.4-3-3-4-6.3-4.1\n",
       "                    c-5.6-0.1-9.9,0.1-13.1,6.4c-3.8,7.6-13.6,10.2-21.8,7.6C5.2,88.4-0.4,80.5,0,71.7c0.1-8.4,5.7-15.8,13.8-18.2\n",
       "                    c8.4-2.6,17.5,0.7,22.3,8c1.3,1.9,1.3,5.2,3.6,5.6c3.9,0.6,8,0.2,12,0.2c1.8,0,1.9-1.6,2.4-2.8c3.5-7.8,9.7-11.8,18-11.9\n",
       "                    c8.2-0.1,14.4,3.9,17.8,11.4c1.3,2.8,2.9,3.6,5.7,3.3c1-0.1,2,0.1,3,0c2.8-0.5,6.4,1.7,8.1-2.7s-2.3-5.5-4.1-7.5\n",
       "                    c-5.1-5.7-10.9-10.8-16.1-16.3C84,38,81.9,37.1,78,38.3C66.7,42,56.2,35.7,53,24.1C50.3,14,57.3,2.8,67.7,0.5\n",
       "                    C78.4-2,89,4.7,91.5,15.3c0.1,0.3,0.1,0.5,0.2,0.8c0.7,3.4,0.7,6.9-0.8,9.8c-1.7,3.2-0.8,5,1.5,7.2c6.7,6.5,13.3,13,19.8,19.7\n",
       "                    c1.8,1.8,3,2.1,5.5,1.2c9.1-3.4,17.9-0.6,23.4,7c4.8,6.9,4.6,16.1-0.4,22.9c-5.4,7.2-14.2,9.9-23.1,6.5c-2.3-0.9-3.5-0.6-5.1,1.1\n",
       "                    c-6.7,6.9-13.6,13.7-20.5,20.4c-1.8,1.8-2.5,3.2-1.4,5.9c3.5,8.7,0.3,18.6-7.7,23.6c-7.9,5-18.2,3.8-24.8-2.9\n",
       "                    c-6.4-6.4-7.4-16.2-2.5-24.3c4.9-7.8,14.5-11,23.1-7.8c3,1.1,4.7,0.5,6.9-1.7C91.7,98.4,98,92.3,104.2,86c1.6-1.6,4.1-2.7,2.6-6.2\n",
       "                    c-1.4-3.3-3.8-2.5-6.2-2.6C99.8,77.2,98.9,77.2,97.3,77.2z M72.1,29.7c5.5,0.1,9.9-4.3,10-9.8c0-0.1,0-0.2,0-0.3\n",
       "                    C81.8,14,77,9.8,71.5,10.2c-5,0.3-9,4.2-9.3,9.2c-0.2,5.5,4,10.1,9.5,10.3C71.8,29.7,72,29.7,72.1,29.7z M72.3,62.3\n",
       "                    c-5.4-0.1-9.9,4.2-10.1,9.7c0,0.2,0,0.3,0,0.5c0.2,5.4,4.5,9.7,9.9,10c5.1,0.1,9.9-4.7,10.1-9.8c0.2-5.5-4-10-9.5-10.3\n",
       "                    C72.6,62.3,72.4,62.3,72.3,62.3z M115,72.5c0.1,5.4,4.5,9.7,9.8,9.9c5.6-0.2,10-4.8,10-10.4c-0.2-5.4-4.6-9.7-10-9.7\n",
       "                    c-5.3-0.1-9.8,4.2-9.9,9.5C115,72.1,115,72.3,115,72.5z M19.5,62.3c-5.4,0.1-9.8,4.4-10,9.8c-0.1,5.1,5.2,10.4,10.2,10.3\n",
       "                    c5.6-0.2,10-4.9,9.8-10.5c-0.1-5.4-4.5-9.7-9.9-9.6C19.6,62.3,19.5,62.3,19.5,62.3z M71.8,134.6c5.9,0.2,10.3-3.9,10.4-9.6\n",
       "                    c0.5-5.5-3.6-10.4-9.1-10.8c-5.5-0.5-10.4,3.6-10.8,9.1c0,0.5,0,0.9,0,1.4c-0.2,5.3,4,9.8,9.3,10\n",
       "                    C71.6,134.6,71.7,134.6,71.8,134.6z\"/>\n",
       "            </g>\n",
       "        </svg>\n",
       "        <table>\n",
       "            <tr>\n",
       "                <td style=\"text-align: left\"><b>Python version:</b></td>\n",
       "                <td style=\"text-align: left\"><b>3.8.5</b></td>\n",
       "            </tr>\n",
       "            <tr>\n",
       "                <td style=\"text-align: left\"><b>Ray version:</b></td>\n",
       "                <td style=\"text-align: left\"><b> 3.0.0.dev0</b></td>\n",
       "            </tr>\n",
       "            <tr>\n",
       "    <td style=\"text-align: left\"><b>Dashboard:</b></td>\n",
       "    <td style=\"text-align: left\"><b><a href=\"http://https://session-lz9bqdctsjv99snrmjpkwtrv.i.anyscaleuserdata-staging.com/auth/?token=agh0_CkcwRQIhANi21ZCVoKkIHTGnFFtfysDcoLRRO8Z1SKJNuziVXXF6AiAte1L7o79zvq3kjX5iZXZ0KDWwraW-GqY1ACOMcQTj4hJmEiAlBPw5uCiEeqKg553UhWeGNgxNvc_2tBVrwvBWh8uXyhgCIgNuL2E6DAjVyZXiBhDY9p-rA0IMCNXG_ZYGENj2n6sD-gEeChxzZXNfTHo5QnFkQ1RTanY5OVNOUk1qUEt3VFJ2&redirect_to=dashboard\" target=\"_blank\">http://https://session-lz9bqdctsjv99snrmjpkwtrv.i.anyscaleuserdata-staging.com/auth/?token=agh0_CkcwRQIhANi21ZCVoKkIHTGnFFtfysDcoLRRO8Z1SKJNuziVXXF6AiAte1L7o79zvq3kjX5iZXZ0KDWwraW-GqY1ACOMcQTj4hJmEiAlBPw5uCiEeqKg553UhWeGNgxNvc_2tBVrwvBWh8uXyhgCIgNuL2E6DAjVyZXiBhDY9p-rA0IMCNXG_ZYGENj2n6sD-gEeChxzZXNfTHo5QnFkQ1RTanY5OVNOUk1qUEt3VFJ2&redirect_to=dashboard</a></b></td>\n",
       "</tr>\n",
       "\n",
       "        </table>\n",
       "    </div>\n",
       "</div>\n"
      ],
      "text/plain": [
       "AnyscaleClientContext(dashboard_url='https://session-lz9bqdctsjv99snrmjpkwtrv.i.anyscaleuserdata-staging.com/auth/?token=agh0_CkcwRQIhANi21ZCVoKkIHTGnFFtfysDcoLRRO8Z1SKJNuziVXXF6AiAte1L7o79zvq3kjX5iZXZ0KDWwraW-GqY1ACOMcQTj4hJmEiAlBPw5uCiEeqKg553UhWeGNgxNvc_2tBVrwvBWh8uXyhgCIgNuL2E6DAjVyZXiBhDY9p-rA0IMCNXG_ZYGENj2n6sD-gEeChxzZXNfTHo5QnFkQ1RTanY5OVNOUk1qUEt3VFJ2&redirect_to=dashboard', python_version='3.8.5', ray_version='3.0.0.dev0', ray_commit='c58874ae8545eef0b5c7632418eba3da0b5015c9', protocol_version='2022-07-24', _num_clients=1, _context_to_restore=None)"
      ]
     },
     "execution_count": 8,
     "metadata": {},
     "output_type": "execute_result"
    },
    {
     "name": "stdout",
     "output_type": "stream",
     "text": [
      "(scheduler +10s) Resized to 48 CPUs, 4 GPUs.\n",
      "(scheduler +18s) Resized to 48 CPUs, 4 GPUs.\n",
      "(scheduler +27s) Resized to 48 CPUs, 4 GPUs.\n",
      "(scheduler +38s) Resized to 48 CPUs, 4 GPUs.\n"
     ]
    }
   ],
   "source": [
    "ray.init(\"anyscale://workspace-project-demo/workspace-cluster-demo\", runtime_env={\"working_dir\": \".\"})"
   ]
  },
  {
   "cell_type": "code",
   "execution_count": 11,
   "id": "2deb8872-363c-4533-b266-f52462a5f7a6",
   "metadata": {},
   "outputs": [
    {
     "name": "stdout",
     "output_type": "stream",
     "text": [
      "(scheduler +6m42s) Resized to 48 CPUs, 4 GPUs.\n",
      "(scheduler +6m42s) Resized to 240 CPUs, 20 GPUs.\n",
      "(scheduler +6m50s) Resized to 48 CPUs, 4 GPUs.\n",
      "(scheduler +6m50s) Resized to 240 CPUs, 20 GPUs.\n"
     ]
    },
    {
     "name": "stderr",
     "output_type": "stream",
     "text": [
      "(_map_block_nosplit pid=1046, ip=172.31.81.117) E0803 14:13:26.212298576   12992 chttp2_transport.cc:1103]   Received a GOAWAY with error code ENHANCE_YOUR_CALM and debug data equal to \"too_many_pings\"\n",
      "(_map_block_nosplit pid=1054, ip=172.31.81.117) E0803 14:13:32.045143373   13003 chttp2_transport.cc:1103]   Received a GOAWAY with error code ENHANCE_YOUR_CALM and debug data equal to \"too_many_pings\"\n",
      "Read progress:   1%|▏         | 6/480 [00:00<00:27, 17.46it/s](_map_block_nosplit pid=1039, ip=172.31.81.117) E0803 14:13:33.631101477   12978 chttp2_transport.cc:1103]   Received a GOAWAY with error code ENHANCE_YOUR_CALM and debug data equal to \"too_many_pings\"\n",
      "Read progress:   9%|▉         | 42/480 [00:02<00:23, 18.31it/s]"
     ]
    },
    {
     "name": "stdout",
     "output_type": "stream",
     "text": [
      "(scheduler +7m0s) Resized to 48 CPUs, 4 GPUs.\n",
      "(scheduler +7m0s) Resized to 240 CPUs, 20 GPUs.\n"
     ]
    },
    {
     "name": "stderr",
     "output_type": "stream",
     "text": [
      "Read progress:  46%|████▌     | 220/480 [00:12<00:13, 18.80it/s]"
     ]
    },
    {
     "name": "stdout",
     "output_type": "stream",
     "text": [
      "(scheduler +7m10s) Resized to 48 CPUs, 4 GPUs.\n",
      "(scheduler +7m10s) Resized to 240 CPUs, 20 GPUs.\n"
     ]
    },
    {
     "name": "stderr",
     "output_type": "stream",
     "text": [
      "Read progress:  84%|████████▍ | 405/480 [00:21<00:03, 19.98it/s]"
     ]
    },
    {
     "name": "stdout",
     "output_type": "stream",
     "text": [
      "(scheduler +7m19s) Resized to 48 CPUs, 4 GPUs.\n",
      "(scheduler +7m19s) Resized to 240 CPUs, 20 GPUs.\n"
     ]
    },
    {
     "name": "stderr",
     "output_type": "stream",
     "text": [
      "Read progress: 100%|█████████▉| 478/480 [00:30<00:01,  1.84it/s]"
     ]
    },
    {
     "name": "stdout",
     "output_type": "stream",
     "text": [
      "(scheduler +7m28s) Resized to 48 CPUs, 4 GPUs.\n",
      "(scheduler +7m28s) Resized to 240 CPUs, 20 GPUs.\n",
      "(scheduler +7m38s) Resized to 48 CPUs, 4 GPUs.\n",
      "(scheduler +7m38s) Resized to 240 CPUs, 20 GPUs.\n"
     ]
    },
    {
     "name": "stderr",
     "output_type": "stream",
     "text": [
      "Read progress: 100%|██████████| 480/480 [00:44<00:00, 10.79it/s]\n"
     ]
    },
    {
     "name": "stdout",
     "output_type": "stream",
     "text": [
      "(scheduler +7m47s) Resized to 48 CPUs, 4 GPUs.\n",
      "(scheduler +7m47s) Resized to 240 CPUs, 20 GPUs.\n"
     ]
    },
    {
     "name": "stderr",
     "output_type": "stream",
     "text": [
      "Map_Batches:  17%|█▋        | 81/480 [00:06<00:21, 18.63it/s]"
     ]
    },
    {
     "name": "stdout",
     "output_type": "stream",
     "text": [
      "(scheduler +7m57s) Resized to 48 CPUs, 4 GPUs.\n",
      "(scheduler +7m57s) Resized to 240 CPUs, 20 GPUs.\n"
     ]
    },
    {
     "name": "stderr",
     "output_type": "stream",
     "text": [
      "Map_Batches:  54%|█████▍    | 261/480 [00:16<00:11, 19.31it/s]"
     ]
    },
    {
     "name": "stdout",
     "output_type": "stream",
     "text": [
      "(scheduler +8m6s) Resized to 48 CPUs, 4 GPUs.\n",
      "(scheduler +8m6s) Resized to 240 CPUs, 20 GPUs.\n"
     ]
    },
    {
     "name": "stderr",
     "output_type": "stream",
     "text": [
      "Map_Batches:  93%|█████████▎| 446/480 [00:25<00:01, 20.23it/s]"
     ]
    },
    {
     "name": "stdout",
     "output_type": "stream",
     "text": [
      "(scheduler +8m16s) Resized to 48 CPUs, 4 GPUs.\n",
      "(scheduler +8m16s) Resized to 240 CPUs, 20 GPUs.\n"
     ]
    },
    {
     "name": "stderr",
     "output_type": "stream",
     "text": [
      "Map_Batches: 100%|██████████| 480/480 [00:27<00:00, 17.50it/s]\n",
      "Map Progress (20 actors 0 pending):   1%|▏         | 7/480 [00:10<05:26,  1.45it/s]  "
     ]
    },
    {
     "name": "stdout",
     "output_type": "stream",
     "text": [
      "(scheduler +8m28s) Resized to 48 CPUs, 4 GPUs.\n",
      "(scheduler +8m28s) Resized to 240 CPUs, 20 GPUs.\n"
     ]
    },
    {
     "name": "stderr",
     "output_type": "stream",
     "text": [
      "Map Progress (20 actors 0 pending):  20%|██        | 96/480 [00:20<00:33, 11.42it/s]"
     ]
    },
    {
     "name": "stdout",
     "output_type": "stream",
     "text": [
      "(scheduler +8m38s) Resized to 48 CPUs, 4 GPUs.\n",
      "(scheduler +8m38s) Resized to 240 CPUs, 20 GPUs.\n"
     ]
    },
    {
     "name": "stderr",
     "output_type": "stream",
     "text": [
      "Map Progress (20 actors 0 pending):  21%|██▏       | 102/480 [00:21<00:46,  8.18it/s](raylet) Spilled 32660 MiB, 275 objects, write throughput 1300 MiB/s.\n",
      "Map Progress (20 actors 0 pending):  25%|██▌       | 120/480 [00:23<00:32, 11.05it/s](raylet) Spilled 32930 MiB, 278 objects, write throughput 1288 MiB/s.\n",
      "Map Progress (20 actors 0 pending):  37%|███▋      | 177/480 [00:30<00:34,  8.84it/s]"
     ]
    },
    {
     "name": "stdout",
     "output_type": "stream",
     "text": [
      "(scheduler +8m48s) Resized to 48 CPUs, 4 GPUs.\n",
      "(scheduler +8m48s) Resized to 240 CPUs, 20 GPUs.\n"
     ]
    },
    {
     "name": "stderr",
     "output_type": "stream",
     "text": [
      "Map Progress (20 actors 0 pending):  54%|█████▍    | 258/480 [00:39<00:31,  6.99it/s]"
     ]
    },
    {
     "name": "stdout",
     "output_type": "stream",
     "text": [
      "(scheduler +8m58s) Resized to 48 CPUs, 4 GPUs.\n",
      "(scheduler +8m58s) Resized to 240 CPUs, 20 GPUs.\n"
     ]
    },
    {
     "name": "stderr",
     "output_type": "stream",
     "text": [
      "Map Progress (20 actors 0 pending):  71%|███████   | 339/480 [00:49<00:18,  7.73it/s]"
     ]
    },
    {
     "name": "stdout",
     "output_type": "stream",
     "text": [
      "(scheduler +9m7s) Resized to 48 CPUs, 4 GPUs.\n",
      "(scheduler +9m7s) Resized to 240 CPUs, 20 GPUs.\n"
     ]
    },
    {
     "name": "stderr",
     "output_type": "stream",
     "text": [
      "Map Progress (20 actors 0 pending):  88%|████████▊ | 421/480 [00:59<00:07,  7.45it/s]"
     ]
    },
    {
     "name": "stdout",
     "output_type": "stream",
     "text": [
      "(scheduler +9m17s) Resized to 48 CPUs, 4 GPUs.\n",
      "(scheduler +9m17s)"
     ]
    },
    {
     "name": "stderr",
     "output_type": "stream",
     "text": [
      "Map Progress (20 actors 0 pending):  88%|████████▊ | 422/480 [00:59<00:07,  7.54it/s]"
     ]
    },
    {
     "name": "stdout",
     "output_type": "stream",
     "text": [
      " Resized to 240 CPUs, 20 GPUs.\n"
     ]
    },
    {
     "name": "stderr",
     "output_type": "stream",
     "text": [
      "Map Progress (20 actors 0 pending): 100%|██████████| 480/480 [01:06<00:00,  7.24it/s]\n"
     ]
    },
    {
     "name": "stdout",
     "output_type": "stream",
     "text": [
      "(scheduler +9m25s) Resized to 48 CPUs, 4 GPUs.\n",
      "(scheduler +9m25s) Resized to 240 CPUs, 20 GPUs.\n",
      "(scheduler +9m35s) Resized to 48 CPUs, 4 GPUs.\n",
      "(scheduler +9m35s) Resized to 240 CPUs, 20 GPUs.\n"
     ]
    }
   ],
   "source": [
    "prediction_results = batch_predict(FILES_DIR, 100000)\n"
   ]
  },
  {
   "cell_type": "code",
   "execution_count": 12,
   "id": "ba8acbf8-966a-4b8f-be90-452fe08acc63",
   "metadata": {},
   "outputs": [
    {
     "data": {
      "text/plain": [
       "Dataset(num_blocks=480, num_rows=41979, schema={boxes: object, scores: object, labels: object, image: object})"
      ]
     },
     "execution_count": 12,
     "metadata": {},
     "output_type": "execute_result"
    },
    {
     "name": "stdout",
     "output_type": "stream",
     "text": [
      "(scheduler +9m46s) Resized to 48 CPUs, 4 GPUs.\n",
      "(scheduler +9m46s) Resized to 240 CPUs, 20 GPUs.\n"
     ]
    }
   ],
   "source": [
    "prediction_results"
   ]
  },
  {
   "cell_type": "code",
   "execution_count": 14,
   "id": "6d2547fa-644c-438c-980f-2390f15e0d50",
   "metadata": {},
   "outputs": [
    {
     "ename": "TypeError",
     "evalue": "'Dataset' object is not subscriptable",
     "output_type": "error",
     "traceback": [
      "\u001b[0;31m---------------------------------------------------------------------------\u001b[0m",
      "\u001b[0;31mTypeError\u001b[0m                                 Traceback (most recent call last)",
      "\u001b[0;32m/tmp/ipykernel_34795/2152821071.py\u001b[0m in \u001b[0;36m<cell line: 1>\u001b[0;34m()\u001b[0m\n\u001b[0;32m----> 1\u001b[0;31m \u001b[0mprediction_results\u001b[0m\u001b[0;34m[\u001b[0m\u001b[0;36m67\u001b[0m\u001b[0;34m]\u001b[0m\u001b[0;34m\u001b[0m\u001b[0;34m\u001b[0m\u001b[0m\n\u001b[0m",
      "\u001b[0;31mTypeError\u001b[0m: 'Dataset' object is not subscriptable"
     ]
    },
    {
     "name": "stdout",
     "output_type": "stream",
     "text": [
      "(scheduler +10m31s) Resized to 48 CPUs, 4 GPUs.\n",
      "(scheduler +10m31s) Resized to 240 CPUs, 20 GPUs.\n",
      "(scheduler +10m41s) Resized to 48 CPUs, 4 GPUs.\n",
      "(scheduler +10m41s) Resized to 240 CPUs, 20 GPUs.\n",
      "(scheduler +10m52s) Resized to 48 CPUs, 4 GPUs.\n",
      "(scheduler +10m52s) Resized to 240 CPUs, 20 GPUs.\n",
      "(scheduler +11m1s) Resized to 48 CPUs, 4 GPUs.\n",
      "(scheduler +11m1s) Resized to 240 CPUs, 20 GPUs.\n",
      "(scheduler +11m12s) Resized to 48 CPUs, 4 GPUs.\n",
      "(scheduler +11m12s) Resized to 240 CPUs, 20 GPUs.\n",
      "(scheduler +11m22s) Resized to 48 CPUs, 4 GPUs.\n",
      "(scheduler +11m22s) Resized to 240 CPUs, 20 GPUs.\n",
      "(scheduler +11m31s) Resized to 48 CPUs, 4 GPUs.\n",
      "(scheduler +11m31s) Resized to 240 CPUs, 20 GPUs.\n",
      "(scheduler +11m40s) Resized to 48 CPUs, 4 GPUs.\n",
      "(scheduler +11m40s) Resized to 240 CPUs, 20 GPUs.\n",
      "(scheduler +11m50s) Resized to 48 CPUs, 4 GPUs.\n",
      "(scheduler +11m50s) Resized to 240 CPUs, 20 GPUs.\n",
      "(scheduler +11m59s) Resized to 48 CPUs, 4 GPUs.\n",
      "(scheduler +11m59s) Resized to 240 CPUs, 20 GPUs.\n",
      "(scheduler +12m9s) Resized to 48 CPUs, 4 GPUs.\n",
      "(scheduler +12m9s) Resized to 240 CPUs, 20 GPUs.\n",
      "(scheduler +12m18s) Resized to 48 CPUs, 4 GPUs.\n",
      "(scheduler +12m18s) Resized to 240 CPUs, 20 GPUs.\n",
      "(scheduler +12m27s) Resized to 48 CPUs, 4 GPUs.\n",
      "(scheduler +12m27s) Resized to 240 CPUs, 20 GPUs.\n",
      "(scheduler +12m37s) Resized to 48 CPUs, 4 GPUs.\n",
      "(scheduler +12m37s) Resized to 240 CPUs, 20 GPUs.\n",
      "(scheduler +12m48s) Resized to 48 CPUs, 4 GPUs.\n",
      "(scheduler +12m48s) Resized to 240 CPUs, 20 GPUs.\n",
      "(scheduler +12m57s) Resized to 48 CPUs, 4 GPUs.\n",
      "(scheduler +12m57s) Resized to 240 CPUs, 20 GPUs.\n",
      "(scheduler +13m7s) Resized to 48 CPUs, 4 GPUs.\n",
      "(scheduler +13m7s) Resized to 240 CPUs, 20 GPUs.\n",
      "(scheduler +13m16s) Resized to 48 CPUs, 4 GPUs.\n",
      "(scheduler +13m16s) Resized to 240 CPUs, 20 GPUs.\n",
      "(scheduler +13m26s) Resized to 48 CPUs, 4 GPUs.\n",
      "(scheduler +13m26s) Resized to 240 CPUs, 20 GPUs.\n",
      "(scheduler +13m35s) Resized to 48 CPUs, 4 GPUs.\n",
      "(scheduler +13m35s) Resized to 240 CPUs, 20 GPUs.\n",
      "(scheduler +13m45s) Resized to 48 CPUs, 4 GPUs.\n",
      "(scheduler +13m45s) Resized to 240 CPUs, 20 GPUs.\n",
      "(scheduler +13m54s) Resized to 48 CPUs, 4 GPUs.\n",
      "(scheduler +13m54s) Resized to 240 CPUs, 20 GPUs.\n",
      "(scheduler +14m3s) Resized to 48 CPUs, 4 GPUs.\n",
      "(scheduler +14m3s) Resized to 240 CPUs, 20 GPUs.\n",
      "(scheduler +14m13s) Resized to 48 CPUs, 4 GPUs.\n",
      "(scheduler +14m13s) Resized to 240 CPUs, 20 GPUs.\n",
      "(scheduler +14m22s) Resized to 48 CPUs, 4 GPUs.\n",
      "(scheduler +14m22s) Resized to 240 CPUs, 20 GPUs.\n",
      "(scheduler +14m32s) Resized to 48 CPUs, 4 GPUs.\n",
      "(scheduler +14m32s) Resized to 240 CPUs, 20 GPUs.\n",
      "(scheduler +14m43s) Resized to 48 CPUs, 4 GPUs.\n",
      "(scheduler +14m43s) Resized to 240 CPUs, 20 GPUs.\n",
      "(scheduler +14m52s) Resized to 48 CPUs, 4 GPUs.\n",
      "(scheduler +14m52s) Resized to 240 CPUs, 20 GPUs.\n",
      "(scheduler +15m3s) Resized to 48 CPUs, 4 GPUs.\n",
      "(scheduler +15m3s) Resized to 240 CPUs, 20 GPUs.\n",
      "(scheduler +15m12s) Resized to 48 CPUs, 4 GPUs.\n",
      "(scheduler +15m12s) Resized to 240 CPUs, 20 GPUs.\n",
      "(scheduler +15m22s) Resized to 48 CPUs, 4 GPUs.\n",
      "(scheduler +15m22s) Resized to 240 CPUs, 20 GPUs.\n",
      "(scheduler +15m31s) Resized to 48 CPUs, 4 GPUs.\n",
      "(scheduler +15m31s) Resized to 240 CPUs, 20 GPUs.\n",
      "(scheduler +15m41s) Resized to 48 CPUs, 4 GPUs.\n",
      "(scheduler +15m41s) Resized to 240 CPUs, 20 GPUs.\n",
      "(scheduler +15m50s) Resized to 48 CPUs, 4 GPUs.\n",
      "(scheduler +15m50s) Resized to 240 CPUs, 20 GPUs.\n",
      "(scheduler +16m0s) Resized to 48 CPUs, 4 GPUs.\n",
      "(scheduler +16m0s) Resized to 240 CPUs, 20 GPUs.\n",
      "(scheduler +16m11s) Resized to 48 CPUs, 4 GPUs.\n",
      "(scheduler +16m11s) Resized to 240 CPUs, 20 GPUs.\n",
      "(scheduler +16m20s) Resized to 48 CPUs, 4 GPUs.\n",
      "(scheduler +16m20s) Resized to 240 CPUs, 20 GPUs.\n"
     ]
    }
   ],
   "source": []
  },
  {
   "cell_type": "code",
   "execution_count": null,
   "id": "51244160-e8bf-4fab-9832-29153a58a14f",
   "metadata": {},
   "outputs": [],
   "source": []
  }
 ],
 "metadata": {
  "kernelspec": {
   "display_name": "conda_pytorch_p38",
   "language": "python",
   "name": "conda_pytorch_p38"
  },
  "language_info": {
   "codemirror_mode": {
    "name": "ipython",
    "version": 3
   },
   "file_extension": ".py",
   "mimetype": "text/x-python",
   "name": "python",
   "nbconvert_exporter": "python",
   "pygments_lexer": "ipython3",
   "version": "3.8.12"
  }
 },
 "nbformat": 4,
 "nbformat_minor": 5
}
